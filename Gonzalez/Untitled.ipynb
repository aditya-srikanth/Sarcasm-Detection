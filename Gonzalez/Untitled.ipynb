{
 "cells": [
  {
   "cell_type": "code",
   "execution_count": 1,
   "metadata": {},
   "outputs": [],
   "source": [
    "import sys\n",
    "import re \n",
    "import numpy as np\n",
    "import pandas as pd "
   ]
  },
  {
   "cell_type": "code",
   "execution_count": 2,
   "metadata": {},
   "outputs": [],
   "source": [
    "featdf = pd.DataFrame()"
   ]
  },
  {
   "cell_type": "code",
   "execution_count": 3,
   "metadata": {},
   "outputs": [],
   "source": [
    "featuremap_dict = {'16':'LP','12':'LP','19':'LP','141':'LP','142':'LP','143':'LP','146':'LP','22':'PP','125':'PP',\n",
    "'126':'PP','127':'PP','128':'PP','129':'PP','130':'PP','131':'PP','132':'PP','133':'PP','134':'PP',\n",
    "'135':'PP','136':'PP','137':'PP','138':'PP','139':'PP','140':'PP','366':'PP','121':'PC','122':'PC','123':'PC',\n",
    "'124':'PC','148':'PC','149':'PC','150':'PC','354':'PC','356':'PC','357':'PC','358':'PC','359':'PC'}"
   ]
  },
  {
   "cell_type": "code",
   "execution_count": 14,
   "metadata": {},
   "outputs": [],
   "source": [
    "def getLIWCFeatures(input,i_base):\n",
    "    input = str(input)\n",
    "    input = input.lower()\n",
    "    liwc_dict = {'LP':0,'PP':0,'PC':0}\n",
    "    words = input.split(' ')\n",
    "    for word in words:\n",
    "        app_features = ''\n",
    "        for key in sentiment_dict.keys():\n",
    "            if word.startswith(key):\n",
    "                app_features = sentiment_dict[key]\n",
    "\n",
    "        if app_features.lower() == '':\n",
    "            continue\n",
    "\n",
    "        for app_feature in app_features.split(' '):\n",
    "            if app_feature in featuremap_dict:\n",
    "                category = featuremap_dict[app_feature]\n",
    "                liwc_dict[category] += 1\n",
    "    output = ''\n",
    "    output += str(i_base)+':'+str(liwc_dict['LP'])+' '+str(i_base+1)+':'+str(liwc_dict['PP'])+' '+str(i_base+2)+':'+str(liwc_dict['PC'])\n",
    "    return output"
   ]
  },
  {
   "cell_type": "code",
   "execution_count": 5,
   "metadata": {},
   "outputs": [],
   "source": [
    "def getInterjection(input,i_interj):\n",
    "    output = ''\n",
    "    count = 0\n",
    "    input = input.lower()\n",
    "    for i in range(0,len(interj_arr)):\n",
    "        count += input.count(interj_arr[i])\n",
    "\n",
    "    output = str(i_interj)+':'+str(count)\n",
    "    return output"
   ]
  },
  {
   "cell_type": "code",
   "execution_count": 6,
   "metadata": {},
   "outputs": [],
   "source": [
    "def getPunctuation(input,i_excl,i_quest,i_dotdot):\n",
    "    output = ''\n",
    "    output += str(i_excl)+':'+str(input.count('!')) +' '\n",
    "    output += str(i_quest)+':'+str(input.count('?'))+' '\n",
    "    output += str(i_dotdot)+':'+str(input.count('...'))\n",
    "    return output.strip()"
   ]
  },
  {
   "cell_type": "code",
   "execution_count": 8,
   "metadata": {},
   "outputs": [],
   "source": [
    "def getActions(input):\n",
    "    output = ''\n",
    "    words = input.split(' ')\n",
    "    action = False\n",
    "    for word in words:\n",
    "        if '(' in word:\n",
    "            action = True\n",
    "\n",
    "        if action:\n",
    "            output += 'k'+word+' '\n",
    "        else:\n",
    "            output += word+' '\n",
    "\n",
    "        if ')' in word:\n",
    "            action = False\n",
    "    return output.strip()"
   ]
  },
  {
   "cell_type": "code",
   "execution_count": 9,
   "metadata": {},
   "outputs": [],
   "source": [
    "f = open('LIWC_words', 'r')\n",
    "sentiment_dict = {}\n",
    "for line in f:\n",
    "    words = line.split('\\t')\n",
    "    temp_string = ''\n",
    "    for i in range(1,len(words)):\n",
    "        temp_string += words[i]+' '\n",
    "    sentiment_dict[words[0].replace('*','')] = temp_string.strip()"
   ]
  },
  {
   "cell_type": "code",
   "execution_count": 10,
   "metadata": {},
   "outputs": [],
   "source": [
    "f = open('interj_words','r')\n",
    "interj_arr = []\n",
    "for line in f:\n",
    "    words = line.split(' ')\n",
    "    if len(words)>0:\n",
    "        interj_arr.append(words[0].strip())"
   ]
  },
  {
   "cell_type": "code",
   "execution_count": 11,
   "metadata": {},
   "outputs": [],
   "source": [
    "f = open('dataset', 'r', encoding='utf-8-sig')\n",
    "qid = 0\n",
    "dict = {}\n",
    "word_count = {}\n",
    "rev_dict = {}\n",
    "index = 1"
   ]
  },
  {
   "cell_type": "code",
   "execution_count": 12,
   "metadata": {},
   "outputs": [],
   "source": [
    "for line in f:\n",
    "    contents = line.split('\\t')\n",
    "    if len(contents) ==2 and \"Scene\" not in line:\n",
    "        dialogue = contents[0].lower()\n",
    "        dialogue = dialogue + ' '+ getActions(dialogue).lower()\n",
    "        if len(dialogue) == 0:\n",
    "            continue\n",
    "\n",
    "        words = re.findall(r\"[\\w']+|[.:,!?;]\",dialogue)\n",
    "        first_word = words[0]\n",
    "\n",
    "        for word in words:\n",
    "            if word not in dict:\n",
    "                dict[word] = index\n",
    "                rev_dict[index] = word\n",
    "                index += 1\n",
    "                word_count[word] = 1\n",
    "            else:\n",
    "                word_count[word] += word_count[word] "
   ]
  },
  {
   "cell_type": "code",
   "execution_count": 15,
   "metadata": {},
   "outputs": [
    {
     "ename": "UnicodeEncodeError",
     "evalue": "'charmap' codec can't encode character '\\u2028' in position 362: character maps to <undefined>",
     "output_type": "error",
     "traceback": [
      "\u001b[1;31m---------------------------------------------------------------------------\u001b[0m",
      "\u001b[1;31mUnicodeEncodeError\u001b[0m                        Traceback (most recent call last)",
      "\u001b[1;32m<ipython-input-15-50dfd66372cd>\u001b[0m in \u001b[0;36m<module>\u001b[1;34m\u001b[0m\n\u001b[0;32m     55\u001b[0m         \u001b[0ms_line\u001b[0m \u001b[1;33m+=\u001b[0m \u001b[1;34m'# '\u001b[0m\u001b[1;33m+\u001b[0m\u001b[0mline\u001b[0m\u001b[1;33m\u001b[0m\u001b[1;33m\u001b[0m\u001b[0m\n\u001b[0;32m     56\u001b[0m         \u001b[0ms_line\u001b[0m \u001b[1;33m=\u001b[0m \u001b[0ms_line\u001b[0m\u001b[1;33m.\u001b[0m\u001b[0mstrip\u001b[0m\u001b[1;33m(\u001b[0m\u001b[1;33m)\u001b[0m\u001b[1;33m\u001b[0m\u001b[1;33m\u001b[0m\u001b[0m\n\u001b[1;32m---> 57\u001b[1;33m         \u001b[0mf_o1\u001b[0m\u001b[1;33m.\u001b[0m\u001b[0mwrite\u001b[0m\u001b[1;33m(\u001b[0m\u001b[0ms_line\u001b[0m\u001b[1;33m+\u001b[0m\u001b[1;34m'\\n'\u001b[0m\u001b[1;33m)\u001b[0m\u001b[1;33m\u001b[0m\u001b[1;33m\u001b[0m\u001b[0m\n\u001b[0m",
      "\u001b[1;32m~\\Miniconda3\\envs\\tf\\lib\\encodings\\cp1252.py\u001b[0m in \u001b[0;36mencode\u001b[1;34m(self, input, final)\u001b[0m\n\u001b[0;32m     17\u001b[0m \u001b[1;32mclass\u001b[0m \u001b[0mIncrementalEncoder\u001b[0m\u001b[1;33m(\u001b[0m\u001b[0mcodecs\u001b[0m\u001b[1;33m.\u001b[0m\u001b[0mIncrementalEncoder\u001b[0m\u001b[1;33m)\u001b[0m\u001b[1;33m:\u001b[0m\u001b[1;33m\u001b[0m\u001b[1;33m\u001b[0m\u001b[0m\n\u001b[0;32m     18\u001b[0m     \u001b[1;32mdef\u001b[0m \u001b[0mencode\u001b[0m\u001b[1;33m(\u001b[0m\u001b[0mself\u001b[0m\u001b[1;33m,\u001b[0m \u001b[0minput\u001b[0m\u001b[1;33m,\u001b[0m \u001b[0mfinal\u001b[0m\u001b[1;33m=\u001b[0m\u001b[1;32mFalse\u001b[0m\u001b[1;33m)\u001b[0m\u001b[1;33m:\u001b[0m\u001b[1;33m\u001b[0m\u001b[1;33m\u001b[0m\u001b[0m\n\u001b[1;32m---> 19\u001b[1;33m         \u001b[1;32mreturn\u001b[0m \u001b[0mcodecs\u001b[0m\u001b[1;33m.\u001b[0m\u001b[0mcharmap_encode\u001b[0m\u001b[1;33m(\u001b[0m\u001b[0minput\u001b[0m\u001b[1;33m,\u001b[0m\u001b[0mself\u001b[0m\u001b[1;33m.\u001b[0m\u001b[0merrors\u001b[0m\u001b[1;33m,\u001b[0m\u001b[0mencoding_table\u001b[0m\u001b[1;33m)\u001b[0m\u001b[1;33m[\u001b[0m\u001b[1;36m0\u001b[0m\u001b[1;33m]\u001b[0m\u001b[1;33m\u001b[0m\u001b[1;33m\u001b[0m\u001b[0m\n\u001b[0m\u001b[0;32m     20\u001b[0m \u001b[1;33m\u001b[0m\u001b[0m\n\u001b[0;32m     21\u001b[0m \u001b[1;32mclass\u001b[0m \u001b[0mIncrementalDecoder\u001b[0m\u001b[1;33m(\u001b[0m\u001b[0mcodecs\u001b[0m\u001b[1;33m.\u001b[0m\u001b[0mIncrementalDecoder\u001b[0m\u001b[1;33m)\u001b[0m\u001b[1;33m:\u001b[0m\u001b[1;33m\u001b[0m\u001b[1;33m\u001b[0m\u001b[0m\n",
      "\u001b[1;31mUnicodeEncodeError\u001b[0m: 'charmap' codec can't encode character '\\u2028' in position 362: character maps to <undefined>"
     ]
    }
   ],
   "source": [
    "f = open('dataset', 'r', encoding='utf-8-sig')\n",
    "i_excl = index+1\n",
    "i_quest = index+2\n",
    "i_dotdot = index+3\n",
    "i_interj = index+4\n",
    "i_liwcbase = index+5\n",
    "f_o1 = open('gonz_feat','w')\n",
    "for line in f:\n",
    "    s_line = ''\n",
    "    contents = line.split('\\t')\n",
    "    pos_score = 0\n",
    "    neg_score = 0\n",
    "    if \"Scene\" in line:\n",
    "        qid +=1\n",
    "\n",
    "\n",
    "    if len(contents) >=2:\n",
    "        #print(contents)\n",
    "        word_ids = [1]\n",
    "        dialogue = contents[0].lower()\n",
    "        dialogue = dialogue + ' '+ getActions(dialogue).lower()\n",
    "        if len(dialogue) == 0:\n",
    "            continue\n",
    "        words = re.findall(r\"[\\w']+|[.,!?;]\",dialogue)\n",
    "\n",
    "        first_word = words[0]\n",
    "        speaker = first_word+':'\n",
    "        words.append(speaker)\n",
    "\n",
    "        s_punct = getPunctuation(line,i_excl,i_quest,i_dotdot)\n",
    "        s_interj = getInterjection(line,i_interj)\n",
    "        s_liwc = getLIWCFeatures(input,i_liwcbase)\n",
    "\n",
    "        for word in words:\n",
    "            if word in dict:\n",
    "\n",
    "                index = dict[word]\n",
    "                if word_count[word] >= 3:\n",
    "                    word_ids.append(index)\n",
    "\n",
    "        if contents[1].strip().lower() == 'sarcasm':\n",
    "            label = '+1'\n",
    "        else:\n",
    "            label = '-1'\n",
    "\n",
    "\n",
    "        word_ids = list(set(word_ids))\n",
    "        word_ids.sort()\n",
    "        s_line = label+' ' \n",
    "        #print(word_ids)\n",
    "        for id in word_ids:\n",
    "            s_line += str(id)+':1 '\n",
    "\n",
    "        s_line += s_punct+' '+s_interj+' '+s_liwc +' '\n",
    "        s_line += '# '+line\n",
    "        s_line = s_line.strip()\n",
    "        f_o1.write(s_line+'\\n')"
   ]
  },
  {
   "cell_type": "code",
   "execution_count": 30,
   "metadata": {},
   "outputs": [
    {
     "data": {
      "text/plain": [
       "'1 2 3 4 6'"
      ]
     },
     "execution_count": 30,
     "metadata": {},
     "output_type": "execute_result"
    }
   ],
   "source": [
    "arr = [1, 2, 3, 4, 6]\n",
    "' '.join(str(x) for x in arr)"
   ]
  }
 ],
 "metadata": {
  "kernelspec": {
   "display_name": "Python 3",
   "language": "python",
   "name": "python3"
  },
  "language_info": {
   "codemirror_mode": {
    "name": "ipython",
    "version": 3
   },
   "file_extension": ".py",
   "mimetype": "text/x-python",
   "name": "python",
   "nbconvert_exporter": "python",
   "pygments_lexer": "ipython3",
   "version": "3.6.8"
  },
  "toc": {
   "base_numbering": 1,
   "nav_menu": {},
   "number_sections": true,
   "sideBar": true,
   "skip_h1_title": false,
   "title_cell": "Table of Contents",
   "title_sidebar": "Contents",
   "toc_cell": false,
   "toc_position": {},
   "toc_section_display": true,
   "toc_window_display": false
  }
 },
 "nbformat": 4,
 "nbformat_minor": 2
}
