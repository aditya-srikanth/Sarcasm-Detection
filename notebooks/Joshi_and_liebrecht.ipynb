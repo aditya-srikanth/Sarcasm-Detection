{
 "cells": [
  {
   "cell_type": "code",
   "execution_count": 1,
   "metadata": {},
   "outputs": [],
   "source": [
    "import pandas as pd \n",
    "import numpy as np\n",
    "from nltk import WordPunctTokenizer\n",
    "from nltk import TreebankWordTokenizer\n",
    "import matplotlib.pyplot as plt\n",
    "from sklearn.feature_extraction.text import CountVectorizer\n",
    "from sklearn.feature_selection import chi2\n",
    "from sklearn import svm\n",
    "from sklearn.metrics import precision_score,recall_score,fbeta_score, precision_recall_fscore_support,confusion_matrix,accuracy_score\n",
    "from sklearn.model_selection import KFold\n",
    "from pprint import pprint\n",
    "import os \n",
    "import time"
   ]
  },
  {
   "cell_type": "code",
   "execution_count": 2,
   "metadata": {},
   "outputs": [],
   "source": [
    "# open dataset and preprocess\n",
    "data = pd.read_csv('..\\\\sarcasm_dataset_clean.csv')          # import the data\n",
    "labels = data['label'].tolist()                              # extracts the labels as a list \n",
    "labels = np.array(labels)\n",
    "text = data['text'].tolist()                                 # extracts the text to be processed as a list"
   ]
  },
  {
   "cell_type": "code",
   "execution_count": 3,
   "metadata": {},
   "outputs": [],
   "source": [
    "# tok = TreebankWordTokenizer()\n",
    "# tokenizer=tok.tokenize, use this if the results are poor\n",
    "minfreq = 3                                              # Used to prune those terms (uni-|bi-|tri- grams whose frequency is less than this)"
   ]
  },
  {
   "cell_type": "code",
   "execution_count": 4,
   "metadata": {},
   "outputs": [
    {
     "name": "stdout",
     "output_type": "stream",
     "text": [
      "Do you remember me telling you we are practicing non-verbal spells, Potter?\" \"Yes,\" said Harry stiffly. \"Yes, sir.\" \"There's no need to call me \"sir\" Professor.\" The words had escaped him before he knew what he was saying.  '\n"
     ]
    }
   ],
   "source": [
    "print(text[0])"
   ]
  },
  {
   "cell_type": "code",
   "execution_count": 5,
   "metadata": {},
   "outputs": [],
   "source": [
    "def process_data(text,labels,n_gram,tokenizer=None,min_document_frequency=2,minfreq=3):\n",
    "    '''\n",
    "        Tokenizes the dataset and return the term-frequency matrix of the frequent n-grams \n",
    "        \n",
    "        Parameters\n",
    "        -----------\n",
    "        text : list\n",
    "            List of strings containing the text to be processed.\n",
    "        labels: list\n",
    "            List of labels\n",
    "        n_gram: int\n",
    "            The size of the n-gram to be returned\n",
    "        tokenizer:\n",
    "            String tokenizer to be used\n",
    "        min_document_frequency: \n",
    "            The minimum document frequency to be used to prune n-grams\n",
    "        minfreq: \n",
    "            The minimum frequency to be used to prune n-grams\n",
    "            \n",
    "        Returns\n",
    "        -------\n",
    "        dataframe : Pandas DataFrame\n",
    "            The text converted as a term-frequency matrix\n",
    "        n_grams : list\n",
    "            The list of n-grams that were generated\n",
    "        weights: tuple \n",
    "            p_value , chi2 value \n",
    "    '''\n",
    "    vectorizer = CountVectorizer(tokenizer=tokenizer,lowercase=False,\\\n",
    "                                 ngram_range=(n_gram,n_gram),\\\n",
    "                                 min_df=min_document_frequency,\\\n",
    "                                 stop_words='english',\\\n",
    "                                 token_pattern='\\\\w+')\n",
    "    \n",
    "    processed_data = (vectorizer.fit_transform(text))                      \n",
    "    processed_data = processed_data.toarray()                              \n",
    "    \n",
    "    n_grams = vectorizer.get_feature_names()                               \n",
    "    \n",
    "    counts = np.sum(processed_data,axis=0)                                 \n",
    "    indices_to_keep = (np.argwhere(counts > minfreq)).flatten()            \n",
    "    processed_data = processed_data[:,indices_to_keep] \n",
    "    n_grams = [n_grams[i]  for i in indices_to_keep]\n",
    "    dataframe = pd.DataFrame(processed_data)\n",
    "    \n",
    "    weights = chi2(processed_data,labels)\n",
    "    \n",
    "    return dataframe,n_grams,weights"
   ]
  },
  {
   "cell_type": "code",
   "execution_count": 6,
   "metadata": {},
   "outputs": [],
   "source": [
    "def store(file_name,data,labels):\n",
    "#     <line> .=. <target> <feature>:<value> <feature>:<value> ... <feature>:<value> # <info>\n",
    "#     <target> .=. {+1,-1}\n",
    "#     <feature> .=. <integer>\n",
    "#     <value> .=. <float>\n",
    "#     <info> .=. <string>\n",
    "    labels = 2*labels - 1\n",
    "    with open(file_name+'.dat','w') as f :\n",
    "        final_string = \"\"\n",
    "        for idx,row in data.iterrows():\n",
    "            string = ''\n",
    "            string += '+1 ' if labels[idx] ==1 else '-1 '\n",
    "            column_indices = data.columns\n",
    "            for index in column_indices:\n",
    "                if row[index] == 0:\n",
    "                    continue\n",
    "                string += str((index+1))+':'+str(row[index])+' '\n",
    "            string += '\\n'\n",
    "            final_string += string\n",
    "        f.write(final_string[:-1])\n",
    "        print('Finished Storing')\n",
    "        return final_string"
   ]
  },
  {
   "cell_type": "code",
   "execution_count": 7,
   "metadata": {},
   "outputs": [
    {
     "name": "stdout",
     "output_type": "stream",
     "text": [
      "(3756, 3469)\n"
     ]
    }
   ],
   "source": [
    "unigrams_matrix,unigrams,(unigram_chi,unigram_p) = process_data(text,labels,1)\n",
    "unigram_features = unigrams_matrix*unigram_chi\n",
    "print(unigrams_matrix.shape)"
   ]
  },
  {
   "cell_type": "code",
   "execution_count": 8,
   "metadata": {},
   "outputs": [
    {
     "name": "stdout",
     "output_type": "stream",
     "text": [
      "(3756, 594)\n"
     ]
    }
   ],
   "source": [
    "bigrams_matrix,bigrams,(bigram_chi,bigram_p) = process_data(text,labels,2)\n",
    "bigram_features = bigrams_matrix*bigram_chi\n",
    "print(bigrams_matrix.shape)"
   ]
  },
  {
   "cell_type": "code",
   "execution_count": 9,
   "metadata": {},
   "outputs": [
    {
     "name": "stdout",
     "output_type": "stream",
     "text": [
      "(3756, 63)\n"
     ]
    }
   ],
   "source": [
    "trigrams_matrix,trigrams,(trigram_chi,trigram_p) = process_data(text,labels,3)\n",
    "trigram_features = trigrams_matrix*trigram_chi\n",
    "print(trigrams_matrix.shape)\n",
    "# print(trigrams)\n",
    "# print(trigrams_matrix)"
   ]
  },
  {
   "cell_type": "code",
   "execution_count": 10,
   "metadata": {},
   "outputs": [],
   "source": [
    "#final_string = store('train_data',trigrams_matrix,labels)"
   ]
  },
  {
   "cell_type": "code",
   "execution_count": 10,
   "metadata": {},
   "outputs": [],
   "source": [
    "def shuffle(df):\n",
    "    '''\n",
    "        Shuffles pandas Dataframe\n",
    "        \n",
    "        Parameters\n",
    "        -----------\n",
    "        df : pd.DataFrame\n",
    "            Dataframe to be shuffled\n",
    "    \n",
    "                \n",
    "        Returns\n",
    "        -------\n",
    "        df_copy : Pandas DataFrame\n",
    "            Shuffled Dataframe copy is returned    \n",
    "    '''\n",
    "    df_copy = df.copy()\n",
    "    df_copy = df_copy.sample(frac=1).reset_index(drop=True)\n",
    "    return df_copy\n",
    "\n",
    "def customKfold(data, labels, n_folds=5, random_seed=99):\n",
    "    # Note: Will not shuffle data - Shuffle before and pass\n",
    "    '''\n",
    "        Stores train and test .dat files for each fold\n",
    "        \n",
    "        Parameters\n",
    "        -----------\n",
    "        data : pd.DataFrame\n",
    "            Feature vectors\n",
    "        labels: list\n",
    "            True Labels\n",
    "        n_folds:\n",
    "            Number of folds required\n",
    "        random_seed: \n",
    "            Random seed to generate the split\n",
    "    '''\n",
    "    from sklearn.model_selection import KFold\n",
    "    kfold = KFold(n_folds, True, random_seed)\n",
    "    iteration = 1\n",
    "    for train, test in kfold.split(data):\n",
    "        print(iteration)\n",
    "        X_train, X_test, y_train, y_test = np.array(data.iloc[train]), np.array(data.iloc[test]), labels[train], labels[test]\n",
    "        X_train = pd.DataFrame(X_train)\n",
    "        X_test = pd.DataFrame(X_test)\n",
    "        store('data/train_'+str(iteration), X_train, y_train)\n",
    "        store('data/test_'+str(iteration), X_test, y_test)\n",
    "        iteration += 1"
   ]
  },
  {
   "cell_type": "code",
   "execution_count": null,
   "metadata": {},
   "outputs": [
    {
     "name": "stdout",
     "output_type": "stream",
     "text": [
      "1\n",
      "Finished Storing\n",
      "Finished Storing\n",
      "2\n",
      "Finished Storing\n",
      "Finished Storing\n",
      "3\n",
      "Finished Storing\n",
      "Finished Storing\n",
      "4\n",
      "Finished Storing\n",
      "Finished Storing\n",
      "5\n"
     ]
    }
   ],
   "source": [
    "lieb_f = pd.concat([unigram_features, bigram_features, trigram_features], axis = 1)\n",
    "# lieb_f = unigram_features\n",
    "customKfold(lieb_f,labels)"
   ]
  },
  {
   "cell_type": "code",
   "execution_count": 13,
   "metadata": {},
   "outputs": [],
   "source": [
    "# start_time = time.time()\n",
    "# features = shuffle(lieb_f)\n",
    "features = lieb_f\n",
    "# end_time = time.time()-start_time\n",
    "# print(end_time)"
   ]
  },
  {
   "cell_type": "code",
   "execution_count": null,
   "metadata": {
    "scrolled": false
   },
   "outputs": [],
   "source": [
    "model = svm.SVC(gamma='auto',kernel='sigmoid', class_weight='balanced',C=20.0)\n",
    "kfold = KFold(5,True,1)\n",
    "p_scores = []\n",
    "r_scores = []\n",
    "f_scores = []\n",
    "for train,test in kfold.split(features):\n",
    "    X_train,X_test,y_train,y_test = features.iloc[train],features.iloc[test],labels[train],labels[test]\n",
    "    print('start fitting')\n",
    "    model.fit(X_train,y_train)\n",
    "    print('finished fitting:\\npredicting:')\n",
    "    y_predict = model.predict(X_test)\n",
    "    print('results:')\n",
    "    p_temp = precision_score(y_test,y_predict)\n",
    "    r_temp = recall_score(y_test,y_predict)\n",
    "    f_temp = fbeta_score(y_test,y_predict,1)\n",
    "    c_matrix = confusion_matrix(y_test,y_predict)\n",
    "    print(precision_recall_fscore_support(y_test,y_predict))\n",
    "    print(c_matrix)\n",
    "    p_scores.append(p_temp)\n",
    "    r_scores.append(r_temp)\n",
    "    f_scores.append(f_temp)\n",
    "    print(p_temp,r_temp,f_temp)"
   ]
  },
  {
   "cell_type": "code",
   "execution_count": 32,
   "metadata": {},
   "outputs": [
    {
     "data": {
      "image/png": "[encoded data removed]",
      "text/plain": [
       "<Figure size 432x288 with 1 Axes>"
      ]
     },
     "metadata": {},
     "output_type": "display_data"
    }
   ],
   "source": [
    "plt.title('precision')\n",
    "plt.plot([x for x in range(len(p_scores))],[score for score in p_scores])\n",
    "plt.show()"
   ]
  },
  {
   "cell_type": "code",
   "execution_count": 34,
   "metadata": {},
   "outputs": [
    {
     "data": {
      "image/png": "[encoded data removed]",
      "text/plain": [
       "<Figure size 432x288 with 1 Axes>"
      ]
     },
     "metadata": {},
     "output_type": "display_data"
    }
   ],
   "source": [
    "plt.title('recall')\n",
    "plt.plot([x for x in range(len(r_scores))],[score for score in r_scores])\n",
    "plt.show()"
   ]
  },
  {
   "cell_type": "code",
   "execution_count": 33,
   "metadata": {
    "scrolled": true
   },
   "outputs": [
    {
     "data": {
      "image/png": "[encoded data removed]",
      "text/plain": [
       "<Figure size 432x288 with 1 Axes>"
      ]
     },
     "metadata": {},
     "output_type": "display_data"
    }
   ],
   "source": [
    "plt.title('F-score')\n",
    "plt.plot([x for x in range(len(f_scores))],[score for score in f_scores])\n",
    "plt.show()"
   ]
  },
  {
   "cell_type": "code",
   "execution_count": 36,
   "metadata": {},
   "outputs": [
    {
     "name": "stdout",
     "output_type": "stream",
     "text": [
      "0.4868115036391626\n",
      "[0.45970149253731346, 0.5141065830721003, 0.46794871794871795, 0.49375, 0.4985507246376812]\n",
      "95.0 confidence interval: 46.1 and 51.3\n"
     ]
    }
   ],
   "source": [
    "f_scores = [score for score in f_scores]\n",
    "mean = 0\n",
    "for i in f_scores:\n",
    "    mean+= i\n",
    "print(mean/len(f_scores))\n",
    "print(f_scores)\n",
    "# confidence intervals\n",
    "alpha = 0.95\n",
    "p = ((1.0-alpha)/2.0) * 100\n",
    "lower = max(0.0, np.percentile(f_scores, p))\n",
    "p = (alpha+((1.0-alpha)/2.0)) * 100\n",
    "upper = min(1.0, np.percentile(f_scores, p))\n",
    "print('%.1f confidence interval: %.1f and %.1f' % (alpha*100, lower*100, upper*100))"
   ]
  }
 ],
 "metadata": {
  "kernelspec": {
   "display_name": "Python 3",
   "language": "python",
   "name": "python3"
  },
  "language_info": {
   "codemirror_mode": {
    "name": "ipython",
    "version": 3
   },
   "file_extension": ".py",
   "mimetype": "text/x-python",
   "name": "python",
   "nbconvert_exporter": "python",
   "pygments_lexer": "ipython3",
   "version": "3.6.5"
  }
 },
 "nbformat": 4,
 "nbformat_minor": 2
}
